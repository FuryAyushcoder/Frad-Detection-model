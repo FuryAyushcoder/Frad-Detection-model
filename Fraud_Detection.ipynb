{
  "cells": [
    {
      "cell_type": "code",
      "execution_count": null,
      "metadata": {
        "id": "sVMgVZIzcJSi"
      },
      "outputs": [
        {
          "name": "stdout",
          "output_type": "stream",
          "text": [
            "Error: File not found. Please ensure the file path is correct.\n"
          ]
        },
        {
          "ename": "NameError",
          "evalue": "name 'df' is not defined",
          "output_type": "error",
          "traceback": [
            "\u001b[1;31m---------------------------------------------------------------------------\u001b[0m",
            "\u001b[1;31mNameError\u001b[0m                                 Traceback (most recent call last)",
            "Cell \u001b[1;32mIn[1], line 11\u001b[0m\n\u001b[0;32m      7\u001b[0m     \u001b[38;5;28mprint\u001b[39m(\u001b[38;5;124m\"\u001b[39m\u001b[38;5;124mError: File not found. Please ensure the file path is correct.\u001b[39m\u001b[38;5;124m\"\u001b[39m)\n\u001b[0;32m      8\u001b[0m     exit()\n\u001b[1;32m---> 11\u001b[0m df\u001b[38;5;241m.\u001b[39mfillna(\u001b[38;5;241m0\u001b[39m, inplace\u001b[38;5;241m=\u001b[39m\u001b[38;5;28;01mTrue\u001b[39;00m)\n\u001b[0;32m     13\u001b[0m df\u001b[38;5;241m.\u001b[39mdrop_duplicates(inplace\u001b[38;5;241m=\u001b[39m\u001b[38;5;28;01mTrue\u001b[39;00m)\n\u001b[0;32m     16\u001b[0m Q1 \u001b[38;5;241m=\u001b[39m df[\u001b[38;5;124m'\u001b[39m\u001b[38;5;124mamount\u001b[39m\u001b[38;5;124m'\u001b[39m]\u001b[38;5;241m.\u001b[39mquantile(\u001b[38;5;241m0.25\u001b[39m)\n",
            "\u001b[1;31mNameError\u001b[0m: name 'df' is not defined"
          ]
        },
        {
          "ename": "",
          "evalue": "",
          "output_type": "error",
          "traceback": [
            "\u001b[1;31mThe Kernel crashed while executing code in the current cell or a previous cell. \n",
            "\u001b[1;31mPlease review the code in the cell(s) to identify a possible cause of the failure. \n",
            "\u001b[1;31mClick <a href='https://aka.ms/vscodeJupyterKernelCrash'>here</a> for more info. \n",
            "\u001b[1;31mView Jupyter <a href='command:jupyter.viewOutput'>log</a> for further details."
          ]
        }
      ],
      "source": [
        "\n",
        "\n",
        "import pandas as pd\n",
        "\n",
        "\n",
        "try:\n",
        "    df = pd.read_csv('/content/PS_20174392719_1491204439457_log.csv')\n",
        "except FileNotFoundError:\n",
        "    print(\"Error: File not found. Please ensure the file path is correct.\")\n",
        "    exit()\n",
        "\n",
        "\n",
        "df.fillna(0, inplace=True)\n",
        "\n",
        "df.drop_duplicates(inplace=True)\n",
        "\n",
        "\n",
        "Q1 = df['amount'].quantile(0.25)\n",
        "Q3 = df['amount'].quantile(0.75)\n",
        "IQR = Q3 - Q1\n",
        "lower_bound = Q1 - 1.5 * IQR\n",
        "upper_bound = Q3 + 1.5 * IQR\n",
        "df = df[(df['amount'] >= lower_bound) & (df['amount'] <= upper_bound)]\n",
        "\n",
        "df\n",
        "df.to_csv('/content/cleaned_data.csv', index=False)\n"
      ]
    },
    {
      "cell_type": "code",
      "execution_count": null,
      "metadata": {
        "id": "dErwTNqHbypG"
      },
      "outputs": [],
      "source": [
        "from google.colab import drive\n",
        "drive.mount('/content/drive')"
      ]
    },
    {
      "cell_type": "code",
      "execution_count": null,
      "metadata": {
        "colab": {
          "base_uri": "https://localhost:8080/"
        },
        "id": "cWzTY75LheNS",
        "outputId": "f497b355-4453-45a7-dec1-edace00e07b4"
      },
      "outputs": [
        {
          "name": "stdout",
          "output_type": "stream",
          "text": [
            "   step      type    amount     nameOrig  oldBalanceOrig  newBalanceOrig  \\\n",
            "0     1   PAYMENT   9839.64  C1231006815        170136.0       160296.36   \n",
            "1     1   PAYMENT   1864.28  C1666544295         21249.0        19384.72   \n",
            "2     1  TRANSFER    181.00  C1305486145           181.0            0.00   \n",
            "3     1  CASH_OUT    181.00   C840083671           181.0            0.00   \n",
            "4     1   PAYMENT  11668.14  C2048537720         41554.0        29885.86   \n",
            "\n",
            "      nameDest  oldBalanceDest  newBalanceDest  isFraud  isFlaggedFraud  \n",
            "0  M1979787155             0.0             0.0      0.0             0.0  \n",
            "1  M2044282225             0.0             0.0      0.0             0.0  \n",
            "2   C553264065             0.0             0.0      1.0             0.0  \n",
            "3    C38997010         21182.0             0.0      1.0             0.0  \n",
            "4  M1230701703             0.0             0.0      0.0             0.0  \n"
          ]
        }
      ],
      "source": [
        "import numpy as np\n",
        "import pandas as pd\n",
        "import datetime as dt\n",
        "import matplotlib.pyplot as plt\n",
        "from sklearn.metrics import accuracy_score\n",
        "from sklearn.model_selection import cross_val_score\n",
        "from sklearn.model_selection import train_test_split\n",
        "\n",
        "%matplotlib inline\n",
        "# Load dataset\n",
        "df = pd.read_csv(\"/content/cleaned_data.csv\")\n",
        "df = df.rename(columns={'oldbalanceOrg':'oldBalanceOrig', 'newbalanceOrig':'newBalanceOrig', \\\n",
        "                        'oldbalanceDest':'oldBalanceDest', 'newbalanceDest':'newBalanceDest'})\n",
        "\n",
        "print(df.head())"
      ]
    },
    {
      "cell_type": "code",
      "execution_count": null,
      "metadata": {
        "id": "Ywq_GcJhk5wm"
      },
      "outputs": [],
      "source": [
        "del df['type']\n",
        "del df['nameOrig']\n",
        "del df['nameDest']\n",
        "del df['isFlaggedFraud']\n",
        "\n",
        "# Assign labels and features for training\n",
        "X = df[['step','amount','oldBalanceOrig','newBalanceOrig','oldBalanceDest','newBalanceDest']]\n",
        "y = df['isFraud']\n",
        "\n",
        "# Split dataset to generate training set and test set\n",
        "X_train, X_test, y_train, y_test = train_test_split(X, y, test_size=0.3, random_state=0)"
      ]
    },
    {
      "cell_type": "code",
      "execution_count": null,
      "metadata": {
        "colab": {
          "base_uri": "https://localhost:8080/"
        },
        "id": "xHfmWeXZlHMm",
        "outputId": "f656511b-be58-4133-c2e5-e39ae4af46b6"
      },
      "outputs": [
        {
          "name": "stdout",
          "output_type": "stream",
          "text": [
            "   step      type    amount     nameOrig  oldBalanceOrig  newBalanceOrig  \\\n",
            "0     1   PAYMENT   9839.64  C1231006815        170136.0       160296.36   \n",
            "1     1   PAYMENT   1864.28  C1666544295         21249.0        19384.72   \n",
            "2     1  TRANSFER    181.00  C1305486145           181.0            0.00   \n",
            "3     1  CASH_OUT    181.00   C840083671           181.0            0.00   \n",
            "4     1   PAYMENT  11668.14  C2048537720         41554.0        29885.86   \n",
            "\n",
            "      nameDest  oldBalanceDest  newBalanceDest  isFraud  isFlaggedFraud  \n",
            "0  M1979787155             0.0             0.0      0.0             0.0  \n",
            "1  M2044282225             0.0             0.0      0.0             0.0  \n",
            "2   C553264065             0.0             0.0      1.0             0.0  \n",
            "3    C38997010         21182.0             0.0      1.0             0.0  \n",
            "4  M1230701703             0.0             0.0      0.0             0.0  \n"
          ]
        }
      ],
      "source": [
        "import numpy as np\n",
        "import pandas as pd\n",
        "import datetime as dt\n",
        "import matplotlib.pyplot as plt\n",
        "from sklearn.metrics import accuracy_score\n",
        "from sklearn.model_selection import cross_val_score\n",
        "from sklearn.model_selection import train_test_split\n",
        "\n",
        "%matplotlib inline\n",
        "# Load dataset\n",
        "df = pd.read_csv(\"/content/cleaned_data.csv\")\n",
        "df = df.rename(columns={'oldbalanceOrg':'oldBalanceOrig', 'newbalanceOrig':'newBalanceOrig', \\\n",
        "                        'oldbalanceDest':'oldBalanceDest', 'newbalanceDest':'newBalanceDest'})\n",
        "\n",
        "print(df.head())\n",
        "# %%\n",
        "# Check if the columns exist before deleting\n",
        "if 'type' in df.columns:\n",
        "    del df['type']\n",
        "if 'nameOrig' in df.columns:\n",
        "    del df['nameOrig']\n",
        "if 'nameDest' in df.columns:\n",
        "    del df['nameDest']\n",
        "if 'isFlaggedFraud' in df.columns:\n",
        "    del df['isFlaggedFraud']\n",
        "\n",
        "\n",
        "# Assign labels and features for training\n",
        "X = df[['step','amount','oldBalanceOrig','newBalanceOrig','oldBalanceDest','newBalanceDest']]\n",
        "y = df['isFraud']\n",
        "\n",
        "# Split dataset to generate training set and test set\n",
        "X_train, X_test, y_train, y_test = train_test_split(X, y, test_size=0.3, random_state=0)"
      ]
    },
    {
      "cell_type": "code",
      "execution_count": null,
      "metadata": {
        "colab": {
          "base_uri": "https://localhost:8080/"
        },
        "id": "cZ7NCyUblcEU",
        "outputId": "a8c3c11c-4cc9-46e5-a138-fa5f32156b14"
      },
      "outputs": [
        {
          "name": "stdout",
          "output_type": "stream",
          "text": [
            "Cross-validation accuracy: 0.5699936456738558\n",
            "Cross-validation running time 0:00:00.239543\n",
            "Training accuracy: 0.5652966039935869\n",
            "Testing accuracy: 0.5609113321431608\n",
            "Total running time 0:00:00.029421\n"
          ]
        }
      ],
      "source": [
        "from sklearn.naive_bayes import GaussianNB\n",
        "\n",
        "def GNB_CV(X, y, cv_num):\n",
        "    start = dt.datetime.now()\n",
        "    clf = GaussianNB()\n",
        "    score = cross_val_score(clf, X, y, cv=cv_num)\n",
        "    print (\"Cross-validation accuracy:\", np.mean(score))\n",
        "    print (\"Cross-validation running time\", dt.datetime.now()-start)\n",
        "\n",
        "def GNB_Train(X_train, y_train, X_test, y_test):\n",
        "    start = dt.datetime.now()\n",
        "    clf = GaussianNB()\n",
        "    y_pred = clf.fit(X_train, y_train).predict(X_train)\n",
        "    print (\"Training accuracy:\", accuracy_score(y_train, y_pred))\n",
        "    y_pred = clf.fit(X_train, y_train).predict(X_test)\n",
        "    print (\"Testing accuracy:\", accuracy_score(y_test, y_pred))\n",
        "    print (\"Total running time\", dt.datetime.now()-start)\n",
        "\n",
        "GNB_CV(X_train, y_train, 20)\n",
        "GNB_Train(X_train, y_train, X_test, y_test)"
      ]
    },
    {
      "cell_type": "code",
      "execution_count": null,
      "metadata": {
        "colab": {
          "base_uri": "https://localhost:8080/"
        },
        "id": "tgxYhOU4lyL5",
        "outputId": "cf20d320-3627-4cc8-9443-e99b482957f9"
      },
      "outputs": [
        {
          "name": "stdout",
          "output_type": "stream",
          "text": [
            "Cross-validation accuracy: 0.9977773129853335\n",
            "Cross-validation running time 0:00:02.803574\n",
            "Training accuracy: 0.9977772919399505\n",
            "Testing accuracy: 0.9986398027714019\n",
            "Total running time 0:00:00.371508\n"
          ]
        }
      ],
      "source": [
        "from sklearn.ensemble import RandomForestClassifier\n",
        "\n",
        "def RFC_CV(X, y, cv_num):\n",
        "    start = dt.datetime.now()\n",
        "    clf = RandomForestClassifier(n_estimators=10, max_depth=2, random_state=0)\n",
        "    score = cross_val_score(clf, X, y, cv=cv_num)\n",
        "    print (\"Cross-validation accuracy:\", np.mean(score))\n",
        "    print (\"Cross-validation running time\", dt.datetime.now()-start)\n",
        "\n",
        "def RFC_Train(X_train, y_train, X_test, y_test):\n",
        "    start = dt.datetime.now()\n",
        "    clf = RandomForestClassifier(n_estimators=10, max_depth=2, random_state=0)\n",
        "    y_pred = clf.fit(X_train, y_train).predict(X_train)\n",
        "    print (\"Training accuracy:\", accuracy_score(y_train, y_pred))\n",
        "    y_pred = clf.fit(X_train, y_train).predict(X_test)\n",
        "    print (\"Testing accuracy:\", accuracy_score(y_test, y_pred))\n",
        "    print (\"Total running time\", dt.datetime.now()-start)\n",
        "\n",
        "RFC_CV(X_train, y_train, 20)\n",
        "RFC_Train(X_train, y_train, X_test, y_test)"
      ]
    },
    {
      "cell_type": "code",
      "execution_count": null,
      "metadata": {
        "id": "Wnc18Qk9n3Ky"
      },
      "outputs": [],
      "source": [
        "from sklearn.ensemble import RandomForestClassifier\n",
        "import numpy as np\n",
        "import pandas as pd\n",
        "import datetime as dt\n",
        "import matplotlib.pyplot as plt\n",
        "from sklearn.metrics import accuracy_score\n",
        "from sklearn.model_selection import cross_val_score\n",
        "from sklearn.model_selection import train_test_split\n",
        "\n",
        "%matplotlib inline\n",
        "\n",
        "def RFC_CV(X, y, cv_num):\n",
        "    start = dt.datetime.now()\n",
        "    clf = RandomForestClassifier(n_estimators=10, max_depth=2, random_state=0)\n",
        "    score = cross_val_score(clf, X, y, cv=cv_num)\n",
        "    print (\"Cross-validation accuracy:\", np.mean(score))\n",
        "    print (\"Cross-validation running time\", dt.datetime.now()-start)\n",
        "\n",
        "def RFC_Train(X_train, y_train, X_test, y_test):\n",
        "    start = dt.datetime.now()\n",
        "    clf = RandomForestClassifier(n_estimators=10, max_depth=2, random_state=0)\n",
        "    y_pred = clf.fit(X_train, y_train).predict(X_train)\n",
        "    print (\"Training accuracy:\", accuracy_score(y_train, y_pred))\n",
        "    y_pred = clf.fit(X_train, y_train).predict(X_test)\n",
        "    print (\"Testing accuracy:\", accuracy_score(y_test, y_pred))\n",
        "    print (\"Total running time\", dt.datetime.now()-start)\n",
        "\n"
      ]
    },
    {
      "cell_type": "code",
      "execution_count": null,
      "metadata": {
        "colab": {
          "base_uri": "https://localhost:8080/"
        },
        "id": "jkDxULoqoAc_",
        "outputId": "ed33ee7d-3c90-4dcf-bbd8-a4102d540703"
      },
      "outputs": [
        {
          "name": "stdout",
          "output_type": "stream",
          "text": [
            "   step      type    amount     nameOrig  oldBalanceOrig  newBalanceOrig  \\\n",
            "0     1   PAYMENT   9839.64  C1231006815        170136.0       160296.36   \n",
            "1     1   PAYMENT   1864.28  C1666544295         21249.0        19384.72   \n",
            "2     1  TRANSFER    181.00  C1305486145           181.0            0.00   \n",
            "3     1  CASH_OUT    181.00   C840083671           181.0            0.00   \n",
            "4     1   PAYMENT  11668.14  C2048537720         41554.0        29885.86   \n",
            "\n",
            "      nameDest  oldBalanceDest  newBalanceDest  isFraud  isFlaggedFraud  \n",
            "0  M1979787155             0.0             0.0      0.0             0.0  \n",
            "1  M2044282225             0.0             0.0      0.0             0.0  \n",
            "2   C553264065             0.0             0.0      1.0             0.0  \n",
            "3    C38997010         21182.0             0.0      1.0             0.0  \n",
            "4  M1230701703             0.0             0.0      0.0             0.0  \n",
            "Cross-validation accuracy: 0.9977773129853335\n",
            "Cross-validation running time 0:00:02.378113\n",
            "Training accuracy: 0.9977772919399505\n",
            "Testing accuracy: 0.9986398027714019\n",
            "Total running time 0:00:00.247607\n"
          ]
        }
      ],
      "source": [
        "from sklearn.ensemble import RandomForestClassifier\n",
        "import numpy as np\n",
        "import pandas as pd\n",
        "import datetime as dt\n",
        "import matplotlib.pyplot as plt\n",
        "from sklearn.metrics import accuracy_score\n",
        "from sklearn.model_selection import cross_val_score\n",
        "from sklearn.model_selection import train_test_split\n",
        "\n",
        "%matplotlib inline\n",
        "\n",
        "def RFC_CV(X, y, cv_num):\n",
        "    start = dt.datetime.now()\n",
        "    clf = RandomForestClassifier(n_estimators=10, max_depth=2, random_state=0)\n",
        "    score = cross_val_score(clf, X, y, cv=cv_num)\n",
        "    print (\"Cross-validation accuracy:\", np.mean(score))\n",
        "    print (\"Cross-validation running time\", dt.datetime.now()-start)\n",
        "\n",
        "def RFC_Train(X_train, y_train, X_test, y_test):\n",
        "    start = dt.datetime.now()\n",
        "    clf = RandomForestClassifier(n_estimators=10, max_depth=2, random_state=0)\n",
        "    y_pred = clf.fit(X_train, y_train).predict(X_train)\n",
        "    print (\"Training accuracy:\", accuracy_score(y_train, y_pred))\n",
        "    y_pred = clf.fit(X_train, y_train).predict(X_test)\n",
        "    print (\"Testing accuracy:\", accuracy_score(y_test, y_pred))\n",
        "    print (\"Total running time\", dt.datetime.now()-start)\n",
        "\n",
        "# Load dataset and prepare data before calling functions\n",
        "df = pd.read_csv(\"/content/cleaned_data.csv\")\n",
        "df = df.rename(columns={'oldbalanceOrg':'oldBalanceOrig', 'newbalanceOrig':'newBalanceOrig', \\\n",
        "                        'oldbalanceDest':'oldBalanceDest', 'newbalanceDest':'newBalanceDest'})\n",
        "\n",
        "print(df.head())\n",
        "\n",
        "# Check if the columns exist before deleting\n",
        "if 'type' in df.columns:\n",
        "    del df['type']\n",
        "if 'nameOrig' in df.columns:\n",
        "    del df['nameOrig']\n",
        "if 'nameDest' in df.columns:\n",
        "    del df['nameDest']\n",
        "if 'isFlaggedFraud' in df.columns:\n",
        "    del df['isFlaggedFraud']\n",
        "\n",
        "# Assign labels and features for training\n",
        "X = df[['step','amount','oldBalanceOrig','newBalanceOrig','oldBalanceDest','newBalanceDest']]\n",
        "y = df['isFraud']\n",
        "\n",
        "# Split dataset to generate training set and test set\n",
        "X_train, X_test, y_train, y_test = train_test_split(X, y, test_size=0.3, random_state=0)\n",
        "\n",
        "# Now call the functions\n",
        "RFC_CV(X_train, y_train, 20)\n",
        "RFC_Train(X_train, y_train, X_test, y_test)"
      ]
    },
    {
      "cell_type": "code",
      "execution_count": null,
      "metadata": {
        "colab": {
          "base_uri": "https://localhost:8080/"
        },
        "id": "6n68UmW4vDdP",
        "outputId": "1eee5872-f8e2-407b-e322-0b3b673b784c"
      },
      "outputs": [
        {
          "name": "stdout",
          "output_type": "stream",
          "text": [
            "Cross-validation accuracy: 0.9977408963793613\n",
            "Cross-validation running time 0:00:00.551599\n",
            "Training accuracy: 0.9977408541029005\n",
            "Testing accuracy: 0.9986398027714019\n",
            "Total running time 0:00:00.055782\n"
          ]
        }
      ],
      "source": [
        "# LDA\n",
        "from sklearn.discriminant_analysis import LinearDiscriminantAnalysis as LDA\n",
        "\n",
        "def LDA_CV(X, y, cv_num):\n",
        "    start = dt.datetime.now()\n",
        "    clf = LDA()\n",
        "    score = cross_val_score(clf, X, y, cv=cv_num)\n",
        "    print (\"Cross-validation accuracy:\", np.mean(score))\n",
        "    print (\"Cross-validation running time\", dt.datetime.now()-start)\n",
        "\n",
        "def LDA_Train(X_train, y_train, X_test, y_test):\n",
        "    start = dt.datetime.now()\n",
        "    clf = LDA()\n",
        "    y_pred = clf.fit(X_train, y_train).predict(X_train)\n",
        "    print (\"Training accuracy:\", accuracy_score(y_train, y_pred))\n",
        "    y_pred = clf.fit(X_train, y_train).predict(X_test)\n",
        "    print (\"Testing accuracy:\", accuracy_score(y_test, y_pred))\n",
        "    print (\"Total running time\", dt.datetime.now()-start)\n",
        "\n",
        "LDA_CV(X_train, y_train, 20)\n",
        "LDA_Train(X_train, y_train, X_test, y_test)"
      ]
    },
    {
      "cell_type": "code",
      "execution_count": null,
      "metadata": {
        "colab": {
          "base_uri": "https://localhost:8080/"
        },
        "id": "D71zldiIwa6U",
        "outputId": "54a24a05-cab7-451a-cf89-afd8cc4d20de"
      },
      "outputs": [
        {
          "name": "stderr",
          "output_type": "stream",
          "text": [
            "/usr/local/lib/python3.11/dist-packages/sklearn/discriminant_analysis.py:1024: LinAlgWarning: The covariance matrix of class 1 is not full rank. Increasing the value of parameter `reg_param` might help reducing the collinearity.\n",
            "  warnings.warn(\n",
            "/usr/local/lib/python3.11/dist-packages/sklearn/discriminant_analysis.py:1024: LinAlgWarning: The covariance matrix of class 1 is not full rank. Increasing the value of parameter `reg_param` might help reducing the collinearity.\n",
            "  warnings.warn(\n",
            "/usr/local/lib/python3.11/dist-packages/sklearn/discriminant_analysis.py:1024: LinAlgWarning: The covariance matrix of class 1 is not full rank. Increasing the value of parameter `reg_param` might help reducing the collinearity.\n",
            "  warnings.warn(\n",
            "/usr/local/lib/python3.11/dist-packages/sklearn/discriminant_analysis.py:1024: LinAlgWarning: The covariance matrix of class 1 is not full rank. Increasing the value of parameter `reg_param` might help reducing the collinearity.\n",
            "  warnings.warn(\n",
            "/usr/local/lib/python3.11/dist-packages/sklearn/discriminant_analysis.py:1024: LinAlgWarning: The covariance matrix of class 1 is not full rank. Increasing the value of parameter `reg_param` might help reducing the collinearity.\n",
            "  warnings.warn(\n",
            "/usr/local/lib/python3.11/dist-packages/sklearn/discriminant_analysis.py:1024: LinAlgWarning: The covariance matrix of class 1 is not full rank. Increasing the value of parameter `reg_param` might help reducing the collinearity.\n",
            "  warnings.warn(\n",
            "/usr/local/lib/python3.11/dist-packages/sklearn/discriminant_analysis.py:1024: LinAlgWarning: The covariance matrix of class 1 is not full rank. Increasing the value of parameter `reg_param` might help reducing the collinearity.\n",
            "  warnings.warn(\n",
            "/usr/local/lib/python3.11/dist-packages/sklearn/discriminant_analysis.py:1024: LinAlgWarning: The covariance matrix of class 1 is not full rank. Increasing the value of parameter `reg_param` might help reducing the collinearity.\n",
            "  warnings.warn(\n",
            "/usr/local/lib/python3.11/dist-packages/sklearn/discriminant_analysis.py:1024: LinAlgWarning: The covariance matrix of class 1 is not full rank. Increasing the value of parameter `reg_param` might help reducing the collinearity.\n",
            "  warnings.warn(\n",
            "/usr/local/lib/python3.11/dist-packages/sklearn/discriminant_analysis.py:1024: LinAlgWarning: The covariance matrix of class 1 is not full rank. Increasing the value of parameter `reg_param` might help reducing the collinearity.\n",
            "  warnings.warn(\n",
            "/usr/local/lib/python3.11/dist-packages/sklearn/discriminant_analysis.py:1024: LinAlgWarning: The covariance matrix of class 1 is not full rank. Increasing the value of parameter `reg_param` might help reducing the collinearity.\n",
            "  warnings.warn(\n",
            "/usr/local/lib/python3.11/dist-packages/sklearn/discriminant_analysis.py:1024: LinAlgWarning: The covariance matrix of class 1 is not full rank. Increasing the value of parameter `reg_param` might help reducing the collinearity.\n",
            "  warnings.warn(\n"
          ]
        },
        {
          "name": "stdout",
          "output_type": "stream",
          "text": [
            "Cross-validation accuracy: 0.8033861073302487\n",
            "Cross-validation running time 0:00:00.394861\n",
            "Training accuracy: 0.660435796531118\n",
            "Testing accuracy: 0.6495791889824024\n",
            "Total running time 0:00:00.043555\n"
          ]
        },
        {
          "name": "stderr",
          "output_type": "stream",
          "text": [
            "/usr/local/lib/python3.11/dist-packages/sklearn/discriminant_analysis.py:1024: LinAlgWarning: The covariance matrix of class 1 is not full rank. Increasing the value of parameter `reg_param` might help reducing the collinearity.\n",
            "  warnings.warn(\n",
            "/usr/local/lib/python3.11/dist-packages/sklearn/discriminant_analysis.py:1024: LinAlgWarning: The covariance matrix of class 1 is not full rank. Increasing the value of parameter `reg_param` might help reducing the collinearity.\n",
            "  warnings.warn(\n",
            "/usr/local/lib/python3.11/dist-packages/sklearn/discriminant_analysis.py:1024: LinAlgWarning: The covariance matrix of class 1 is not full rank. Increasing the value of parameter `reg_param` might help reducing the collinearity.\n",
            "  warnings.warn(\n",
            "/usr/local/lib/python3.11/dist-packages/sklearn/discriminant_analysis.py:1024: LinAlgWarning: The covariance matrix of class 1 is not full rank. Increasing the value of parameter `reg_param` might help reducing the collinearity.\n",
            "  warnings.warn(\n",
            "/usr/local/lib/python3.11/dist-packages/sklearn/discriminant_analysis.py:1024: LinAlgWarning: The covariance matrix of class 1 is not full rank. Increasing the value of parameter `reg_param` might help reducing the collinearity.\n",
            "  warnings.warn(\n",
            "/usr/local/lib/python3.11/dist-packages/sklearn/discriminant_analysis.py:1024: LinAlgWarning: The covariance matrix of class 1 is not full rank. Increasing the value of parameter `reg_param` might help reducing the collinearity.\n",
            "  warnings.warn(\n",
            "/usr/local/lib/python3.11/dist-packages/sklearn/discriminant_analysis.py:1024: LinAlgWarning: The covariance matrix of class 1 is not full rank. Increasing the value of parameter `reg_param` might help reducing the collinearity.\n",
            "  warnings.warn(\n",
            "/usr/local/lib/python3.11/dist-packages/sklearn/discriminant_analysis.py:1024: LinAlgWarning: The covariance matrix of class 1 is not full rank. Increasing the value of parameter `reg_param` might help reducing the collinearity.\n",
            "  warnings.warn(\n",
            "/usr/local/lib/python3.11/dist-packages/sklearn/discriminant_analysis.py:1024: LinAlgWarning: The covariance matrix of class 1 is not full rank. Increasing the value of parameter `reg_param` might help reducing the collinearity.\n",
            "  warnings.warn(\n",
            "/usr/local/lib/python3.11/dist-packages/sklearn/discriminant_analysis.py:1024: LinAlgWarning: The covariance matrix of class 1 is not full rank. Increasing the value of parameter `reg_param` might help reducing the collinearity.\n",
            "  warnings.warn(\n"
          ]
        }
      ],
      "source": [
        "# QDA\n",
        "from sklearn.discriminant_analysis import QuadraticDiscriminantAnalysis as QDA\n",
        "\n",
        "def QDA_CV(X, y, cv_num):\n",
        "    start = dt.datetime.now()\n",
        "    clf = QDA()\n",
        "    score = cross_val_score(clf, X, y, cv=cv_num)\n",
        "    print (\"Cross-validation accuracy:\", np.mean(score))\n",
        "    print (\"Cross-validation running time\", dt.datetime.now()-start)\n",
        "\n",
        "def QDA_Train(X_train, y_train, X_test, y_test):\n",
        "    start = dt.datetime.now()\n",
        "    clf = QDA()\n",
        "    y_pred = clf.fit(X_train, y_train).predict(X_train)\n",
        "    print (\"Training accuracy:\", accuracy_score(y_train, y_pred))\n",
        "    y_pred = clf.fit(X_train, y_train).predict(X_test)\n",
        "    print (\"Testing accuracy:\", accuracy_score(y_test, y_pred))\n",
        "    print (\"Total running time\", dt.datetime.now()-start)\n",
        "\n",
        "QDA_CV(X_train, y_train, 20)\n",
        "QDA_Train(X_train, y_train, X_test, y_test)"
      ]
    },
    {
      "cell_type": "code",
      "execution_count": null,
      "metadata": {
        "colab": {
          "base_uri": "https://localhost:8080/"
        },
        "id": "Y4AG9QiPyZgQ",
        "outputId": "44daa629-fe1c-489c-aeae-cb58487efff7"
      },
      "outputs": [
        {
          "name": "stderr",
          "output_type": "stream",
          "text": [
            "/usr/local/lib/python3.11/dist-packages/sklearn/linear_model/_logistic.py:465: ConvergenceWarning: lbfgs failed to converge (status=1):\n",
            "STOP: TOTAL NO. of ITERATIONS REACHED LIMIT.\n",
            "\n",
            "Increase the number of iterations (max_iter) or scale the data as shown in:\n",
            "    https://scikit-learn.org/stable/modules/preprocessing.html\n",
            "Please also refer to the documentation for alternative solver options:\n",
            "    https://scikit-learn.org/stable/modules/linear_model.html#logistic-regression\n",
            "  n_iter_i = _check_optimize_result(\n",
            "/usr/local/lib/python3.11/dist-packages/sklearn/linear_model/_logistic.py:465: ConvergenceWarning: lbfgs failed to converge (status=1):\n",
            "STOP: TOTAL NO. of ITERATIONS REACHED LIMIT.\n",
            "\n",
            "Increase the number of iterations (max_iter) or scale the data as shown in:\n",
            "    https://scikit-learn.org/stable/modules/preprocessing.html\n",
            "Please also refer to the documentation for alternative solver options:\n",
            "    https://scikit-learn.org/stable/modules/linear_model.html#logistic-regression\n",
            "  n_iter_i = _check_optimize_result(\n",
            "/usr/local/lib/python3.11/dist-packages/sklearn/linear_model/_logistic.py:465: ConvergenceWarning: lbfgs failed to converge (status=1):\n",
            "STOP: TOTAL NO. of ITERATIONS REACHED LIMIT.\n",
            "\n",
            "Increase the number of iterations (max_iter) or scale the data as shown in:\n",
            "    https://scikit-learn.org/stable/modules/preprocessing.html\n",
            "Please also refer to the documentation for alternative solver options:\n",
            "    https://scikit-learn.org/stable/modules/linear_model.html#logistic-regression\n",
            "  n_iter_i = _check_optimize_result(\n",
            "/usr/local/lib/python3.11/dist-packages/sklearn/linear_model/_logistic.py:465: ConvergenceWarning: lbfgs failed to converge (status=1):\n",
            "STOP: TOTAL NO. of ITERATIONS REACHED LIMIT.\n",
            "\n",
            "Increase the number of iterations (max_iter) or scale the data as shown in:\n",
            "    https://scikit-learn.org/stable/modules/preprocessing.html\n",
            "Please also refer to the documentation for alternative solver options:\n",
            "    https://scikit-learn.org/stable/modules/linear_model.html#logistic-regression\n",
            "  n_iter_i = _check_optimize_result(\n",
            "/usr/local/lib/python3.11/dist-packages/sklearn/linear_model/_logistic.py:465: ConvergenceWarning: lbfgs failed to converge (status=1):\n",
            "STOP: TOTAL NO. of ITERATIONS REACHED LIMIT.\n",
            "\n",
            "Increase the number of iterations (max_iter) or scale the data as shown in:\n",
            "    https://scikit-learn.org/stable/modules/preprocessing.html\n",
            "Please also refer to the documentation for alternative solver options:\n",
            "    https://scikit-learn.org/stable/modules/linear_model.html#logistic-regression\n",
            "  n_iter_i = _check_optimize_result(\n",
            "/usr/local/lib/python3.11/dist-packages/sklearn/linear_model/_logistic.py:465: ConvergenceWarning: lbfgs failed to converge (status=1):\n",
            "STOP: TOTAL NO. of ITERATIONS REACHED LIMIT.\n",
            "\n",
            "Increase the number of iterations (max_iter) or scale the data as shown in:\n",
            "    https://scikit-learn.org/stable/modules/preprocessing.html\n",
            "Please also refer to the documentation for alternative solver options:\n",
            "    https://scikit-learn.org/stable/modules/linear_model.html#logistic-regression\n",
            "  n_iter_i = _check_optimize_result(\n",
            "/usr/local/lib/python3.11/dist-packages/sklearn/linear_model/_logistic.py:465: ConvergenceWarning: lbfgs failed to converge (status=1):\n",
            "STOP: TOTAL NO. of ITERATIONS REACHED LIMIT.\n",
            "\n",
            "Increase the number of iterations (max_iter) or scale the data as shown in:\n",
            "    https://scikit-learn.org/stable/modules/preprocessing.html\n",
            "Please also refer to the documentation for alternative solver options:\n",
            "    https://scikit-learn.org/stable/modules/linear_model.html#logistic-regression\n",
            "  n_iter_i = _check_optimize_result(\n",
            "/usr/local/lib/python3.11/dist-packages/sklearn/linear_model/_logistic.py:465: ConvergenceWarning: lbfgs failed to converge (status=1):\n",
            "STOP: TOTAL NO. of ITERATIONS REACHED LIMIT.\n",
            "\n",
            "Increase the number of iterations (max_iter) or scale the data as shown in:\n",
            "    https://scikit-learn.org/stable/modules/preprocessing.html\n",
            "Please also refer to the documentation for alternative solver options:\n",
            "    https://scikit-learn.org/stable/modules/linear_model.html#logistic-regression\n",
            "  n_iter_i = _check_optimize_result(\n",
            "/usr/local/lib/python3.11/dist-packages/sklearn/linear_model/_logistic.py:465: ConvergenceWarning: lbfgs failed to converge (status=1):\n",
            "STOP: TOTAL NO. of ITERATIONS REACHED LIMIT.\n",
            "\n",
            "Increase the number of iterations (max_iter) or scale the data as shown in:\n",
            "    https://scikit-learn.org/stable/modules/preprocessing.html\n",
            "Please also refer to the documentation for alternative solver options:\n",
            "    https://scikit-learn.org/stable/modules/linear_model.html#logistic-regression\n",
            "  n_iter_i = _check_optimize_result(\n",
            "/usr/local/lib/python3.11/dist-packages/sklearn/linear_model/_logistic.py:465: ConvergenceWarning: lbfgs failed to converge (status=1):\n",
            "STOP: TOTAL NO. of ITERATIONS REACHED LIMIT.\n",
            "\n",
            "Increase the number of iterations (max_iter) or scale the data as shown in:\n",
            "    https://scikit-learn.org/stable/modules/preprocessing.html\n",
            "Please also refer to the documentation for alternative solver options:\n",
            "    https://scikit-learn.org/stable/modules/linear_model.html#logistic-regression\n",
            "  n_iter_i = _check_optimize_result(\n",
            "/usr/local/lib/python3.11/dist-packages/sklearn/linear_model/_logistic.py:465: ConvergenceWarning: lbfgs failed to converge (status=1):\n",
            "STOP: TOTAL NO. of ITERATIONS REACHED LIMIT.\n",
            "\n",
            "Increase the number of iterations (max_iter) or scale the data as shown in:\n",
            "    https://scikit-learn.org/stable/modules/preprocessing.html\n",
            "Please also refer to the documentation for alternative solver options:\n",
            "    https://scikit-learn.org/stable/modules/linear_model.html#logistic-regression\n",
            "  n_iter_i = _check_optimize_result(\n",
            "/usr/local/lib/python3.11/dist-packages/sklearn/linear_model/_logistic.py:465: ConvergenceWarning: lbfgs failed to converge (status=1):\n",
            "STOP: TOTAL NO. of ITERATIONS REACHED LIMIT.\n",
            "\n",
            "Increase the number of iterations (max_iter) or scale the data as shown in:\n",
            "    https://scikit-learn.org/stable/modules/preprocessing.html\n",
            "Please also refer to the documentation for alternative solver options:\n",
            "    https://scikit-learn.org/stable/modules/linear_model.html#logistic-regression\n",
            "  n_iter_i = _check_optimize_result(\n",
            "/usr/local/lib/python3.11/dist-packages/sklearn/linear_model/_logistic.py:465: ConvergenceWarning: lbfgs failed to converge (status=1):\n",
            "STOP: TOTAL NO. of ITERATIONS REACHED LIMIT.\n",
            "\n",
            "Increase the number of iterations (max_iter) or scale the data as shown in:\n",
            "    https://scikit-learn.org/stable/modules/preprocessing.html\n",
            "Please also refer to the documentation for alternative solver options:\n",
            "    https://scikit-learn.org/stable/modules/linear_model.html#logistic-regression\n",
            "  n_iter_i = _check_optimize_result(\n",
            "/usr/local/lib/python3.11/dist-packages/sklearn/linear_model/_logistic.py:465: ConvergenceWarning: lbfgs failed to converge (status=1):\n",
            "STOP: TOTAL NO. of ITERATIONS REACHED LIMIT.\n",
            "\n",
            "Increase the number of iterations (max_iter) or scale the data as shown in:\n",
            "    https://scikit-learn.org/stable/modules/preprocessing.html\n",
            "Please also refer to the documentation for alternative solver options:\n",
            "    https://scikit-learn.org/stable/modules/linear_model.html#logistic-regression\n",
            "  n_iter_i = _check_optimize_result(\n",
            "/usr/local/lib/python3.11/dist-packages/sklearn/linear_model/_logistic.py:465: ConvergenceWarning: lbfgs failed to converge (status=1):\n",
            "STOP: TOTAL NO. of ITERATIONS REACHED LIMIT.\n",
            "\n",
            "Increase the number of iterations (max_iter) or scale the data as shown in:\n",
            "    https://scikit-learn.org/stable/modules/preprocessing.html\n",
            "Please also refer to the documentation for alternative solver options:\n",
            "    https://scikit-learn.org/stable/modules/linear_model.html#logistic-regression\n",
            "  n_iter_i = _check_optimize_result(\n",
            "/usr/local/lib/python3.11/dist-packages/sklearn/linear_model/_logistic.py:465: ConvergenceWarning: lbfgs failed to converge (status=1):\n",
            "STOP: TOTAL NO. of ITERATIONS REACHED LIMIT.\n",
            "\n",
            "Increase the number of iterations (max_iter) or scale the data as shown in:\n",
            "    https://scikit-learn.org/stable/modules/preprocessing.html\n",
            "Please also refer to the documentation for alternative solver options:\n",
            "    https://scikit-learn.org/stable/modules/linear_model.html#logistic-regression\n",
            "  n_iter_i = _check_optimize_result(\n",
            "/usr/local/lib/python3.11/dist-packages/sklearn/linear_model/_logistic.py:465: ConvergenceWarning: lbfgs failed to converge (status=1):\n",
            "STOP: TOTAL NO. of ITERATIONS REACHED LIMIT.\n",
            "\n",
            "Increase the number of iterations (max_iter) or scale the data as shown in:\n",
            "    https://scikit-learn.org/stable/modules/preprocessing.html\n",
            "Please also refer to the documentation for alternative solver options:\n",
            "    https://scikit-learn.org/stable/modules/linear_model.html#logistic-regression\n",
            "  n_iter_i = _check_optimize_result(\n",
            "/usr/local/lib/python3.11/dist-packages/sklearn/linear_model/_logistic.py:465: ConvergenceWarning: lbfgs failed to converge (status=1):\n",
            "STOP: TOTAL NO. of ITERATIONS REACHED LIMIT.\n",
            "\n",
            "Increase the number of iterations (max_iter) or scale the data as shown in:\n",
            "    https://scikit-learn.org/stable/modules/preprocessing.html\n",
            "Please also refer to the documentation for alternative solver options:\n",
            "    https://scikit-learn.org/stable/modules/linear_model.html#logistic-regression\n",
            "  n_iter_i = _check_optimize_result(\n",
            "/usr/local/lib/python3.11/dist-packages/sklearn/linear_model/_logistic.py:465: ConvergenceWarning: lbfgs failed to converge (status=1):\n",
            "STOP: TOTAL NO. of ITERATIONS REACHED LIMIT.\n",
            "\n",
            "Increase the number of iterations (max_iter) or scale the data as shown in:\n",
            "    https://scikit-learn.org/stable/modules/preprocessing.html\n",
            "Please also refer to the documentation for alternative solver options:\n",
            "    https://scikit-learn.org/stable/modules/linear_model.html#logistic-regression\n",
            "  n_iter_i = _check_optimize_result(\n",
            "/usr/local/lib/python3.11/dist-packages/sklearn/linear_model/_logistic.py:465: ConvergenceWarning: lbfgs failed to converge (status=1):\n",
            "STOP: TOTAL NO. of ITERATIONS REACHED LIMIT.\n",
            "\n",
            "Increase the number of iterations (max_iter) or scale the data as shown in:\n",
            "    https://scikit-learn.org/stable/modules/preprocessing.html\n",
            "Please also refer to the documentation for alternative solver options:\n",
            "    https://scikit-learn.org/stable/modules/linear_model.html#logistic-regression\n",
            "  n_iter_i = _check_optimize_result(\n"
          ]
        },
        {
          "name": "stdout",
          "output_type": "stream",
          "text": [
            "Cross-validation accuracy: 0.998360244108048\n",
            "Cross-validation running time 0:00:08.490542\n"
          ]
        },
        {
          "name": "stderr",
          "output_type": "stream",
          "text": [
            "/usr/local/lib/python3.11/dist-packages/sklearn/linear_model/_logistic.py:465: ConvergenceWarning: lbfgs failed to converge (status=1):\n",
            "STOP: TOTAL NO. of ITERATIONS REACHED LIMIT.\n",
            "\n",
            "Increase the number of iterations (max_iter) or scale the data as shown in:\n",
            "    https://scikit-learn.org/stable/modules/preprocessing.html\n",
            "Please also refer to the documentation for alternative solver options:\n",
            "    https://scikit-learn.org/stable/modules/linear_model.html#logistic-regression\n",
            "  n_iter_i = _check_optimize_result(\n"
          ]
        },
        {
          "name": "stdout",
          "output_type": "stream",
          "text": [
            "Training accuracy: 0.9981416703104504\n",
            "Testing accuracy: 0.9988098274249766\n",
            "Total running time 0:00:00.769842\n"
          ]
        },
        {
          "name": "stderr",
          "output_type": "stream",
          "text": [
            "/usr/local/lib/python3.11/dist-packages/sklearn/linear_model/_logistic.py:465: ConvergenceWarning: lbfgs failed to converge (status=1):\n",
            "STOP: TOTAL NO. of ITERATIONS REACHED LIMIT.\n",
            "\n",
            "Increase the number of iterations (max_iter) or scale the data as shown in:\n",
            "    https://scikit-learn.org/stable/modules/preprocessing.html\n",
            "Please also refer to the documentation for alternative solver options:\n",
            "    https://scikit-learn.org/stable/modules/linear_model.html#logistic-regression\n",
            "  n_iter_i = _check_optimize_result(\n"
          ]
        }
      ],
      "source": [
        "# Logistic Regression\n",
        "from sklearn import linear_model\n",
        "from sklearn.linear_model import LogisticRegression\n",
        "\n",
        "model = LogisticRegression(max_iter=1000000000)  # Increase the iteration limit\n",
        "\n",
        "\n",
        "\n",
        "def LR_CV(X, y, cv_num):\n",
        "    start = dt.datetime.now()\n",
        "    clf = linear_model.LogisticRegression()\n",
        "    score = cross_val_score(clf, X, y, cv=cv_num)\n",
        "    print (\"Cross-validation accuracy:\", np.mean(score))\n",
        "    print (\"Cross-validation running time\", dt.datetime.now()-start)\n",
        "\n",
        "def LR_Train(X_train, y_train, X_test, y_test):\n",
        "    start = dt.datetime.now()\n",
        "    clf = linear_model.LogisticRegression()\n",
        "    y_pred = clf.fit(X_train, y_train).predict(X_train)\n",
        "    print (\"Training accuracy:\", accuracy_score(y_train, y_pred))\n",
        "    y_pred = clf.fit(X_train, y_train).predict(X_test)\n",
        "    print (\"Testing accuracy:\", accuracy_score(y_test, y_pred))\n",
        "    print (\"Total running time\", dt.datetime.now()-start)\n",
        "\n",
        "LR_CV(X_train, y_train, 20)\n",
        "LR_Train(X_train, y_train, X_test, y_test)"
      ]
    },
    {
      "cell_type": "code",
      "execution_count": null,
      "metadata": {
        "colab": {
          "base_uri": "https://localhost:8080/",
          "height": 364
        },
        "id": "iQJhkWCv2Nz_",
        "outputId": "c1254571-9d7e-4d50-c63d-649a79c2d694"
      },
      "outputs": [
        {
          "name": "stdout",
          "output_type": "stream",
          "text": [
            "   step      type    amount     nameOrig  oldbalanceOrg  newbalanceOrig  \\\n",
            "0     1   PAYMENT   9839.64  C1231006815       170136.0       160296.36   \n",
            "1     1   PAYMENT   1864.28  C1666544295        21249.0        19384.72   \n",
            "2     1  TRANSFER    181.00  C1305486145          181.0            0.00   \n",
            "3     1  CASH_OUT    181.00   C840083671          181.0            0.00   \n",
            "4     1   PAYMENT  11668.14  C2048537720        41554.0        29885.86   \n",
            "\n",
            "      nameDest  oldbalanceDest  newbalanceDest  isFraud  isFlaggedFraud  \\\n",
            "0  M1979787155             0.0             0.0      0.0             0.0   \n",
            "1  M2044282225             0.0             0.0      0.0             0.0   \n",
            "2   C553264065             0.0             0.0      1.0             0.0   \n",
            "3    C38997010         21182.0             0.0      1.0             0.0   \n",
            "4  M1230701703             0.0             0.0      0.0             0.0   \n",
            "\n",
            "              location  \n",
            "0      California, USA  \n",
            "1         Scotland, UK  \n",
            "2  Victoria, Australia  \n",
            "3  Victoria, Australia  \n",
            "4        New York, USA  \n"
          ]
        },
        {
          "data": {
            "application/javascript": "\n    async function download(id, filename, size) {\n      if (!google.colab.kernel.accessAllowed) {\n        return;\n      }\n      const div = document.createElement('div');\n      const label = document.createElement('label');\n      label.textContent = `Downloading \"${filename}\": `;\n      div.appendChild(label);\n      const progress = document.createElement('progress');\n      progress.max = size;\n      div.appendChild(progress);\n      document.body.appendChild(div);\n\n      const buffers = [];\n      let downloaded = 0;\n\n      const channel = await google.colab.kernel.comms.open(id);\n      // Send a message to notify the kernel that we're ready.\n      channel.send({})\n\n      for await (const message of channel.messages) {\n        // Send a message to notify the kernel that we're ready.\n        channel.send({})\n        if (message.buffers) {\n          for (const buffer of message.buffers) {\n            buffers.push(buffer);\n            downloaded += buffer.byteLength;\n            progress.value = downloaded;\n          }\n        }\n      }\n      const blob = new Blob(buffers, {type: 'application/binary'});\n      const a = document.createElement('a');\n      a.href = window.URL.createObjectURL(blob);\n      a.download = filename;\n      div.appendChild(a);\n      a.click();\n      div.remove();\n    }\n  ",
            "text/plain": [
              "<IPython.core.display.Javascript object>"
            ]
          },
          "metadata": {},
          "output_type": "display_data"
        },
        {
          "data": {
            "application/javascript": "download(\"download_d7745c9a-38e4-4b37-a92a-d7765aea0de8\", \"data_with_locations.csv\", 3786417)",
            "text/plain": [
              "<IPython.core.display.Javascript object>"
            ]
          },
          "metadata": {},
          "output_type": "display_data"
        }
      ],
      "source": [
        "# prompt: Add random location column for all trasactions including states of different countries and give me the data set to download\n",
        "\n",
        "import pandas as pd\n",
        "import numpy as np\n",
        "import random\n",
        "\n",
        "# Load the dataset\n",
        "try:\n",
        "    df = pd.read_csv('/content/cleaned_data.csv')\n",
        "except FileNotFoundError:\n",
        "    print(\"Error: File not found. Please ensure the file path is correct.\")\n",
        "    exit()\n",
        "\n",
        "# Define a list of states and countries (you can expand this)\n",
        "states_countries = {\n",
        "    'USA': ['California', 'Texas', 'New York'],\n",
        "    'Canada': ['Ontario', 'Quebec', 'British Columbia'],\n",
        "    'UK': ['England', 'Scotland', 'Wales'],\n",
        "    'Australia': ['New South Wales', 'Victoria', 'Queensland']\n",
        "    # Add more countries and states as needed\n",
        "}\n",
        "\n",
        "# Function to generate a random location\n",
        "def generate_random_location():\n",
        "  country = random.choice(list(states_countries.keys()))\n",
        "  state = random.choice(states_countries[country])\n",
        "  return f\"{state}, {country}\"\n",
        "\n",
        "# Generate locations for each transaction\n",
        "df['location'] = [generate_random_location() for _ in range(len(df))]\n",
        "\n",
        "# Display the updated DataFrame (optional)\n",
        "print(df.head())\n",
        "\n",
        "# Save the updated DataFrame to a new CSV file\n",
        "df.to_csv('/content/data_with_locations.csv', index=False)\n",
        "\n",
        "# Optionally, download the file\n",
        "from google.colab import files\n",
        "files.download('/content/data_with_locations.csv')\n"
      ]
    },
    {
      "cell_type": "code",
      "execution_count": null,
      "metadata": {
        "colab": {
          "base_uri": "https://localhost:8080/",
          "height": 933
        },
        "id": "pcE6hkeJ3xAb",
        "outputId": "78cdff12-647f-4499-81dd-55db11e82b78"
      },
      "outputs": [
        {
          "name": "stdout",
          "output_type": "stream",
          "text": [
            "   step      type    amount     nameOrig  oldBalanceOrig  newBalanceOrig  \\\n",
            "0     1   PAYMENT   9839.64  C1231006815        170136.0       160296.36   \n",
            "1     1   PAYMENT   1864.28  C1666544295         21249.0        19384.72   \n",
            "2     1  TRANSFER    181.00  C1305486145           181.0            0.00   \n",
            "3     1  CASH_OUT    181.00   C840083671           181.0            0.00   \n",
            "4     1   PAYMENT  11668.14  C2048537720         41554.0        29885.86   \n",
            "\n",
            "      nameDest  oldBalanceDest  newBalanceDest  isFraud  isFlaggedFraud  \n",
            "0  M1979787155             0.0             0.0      0.0             0.0  \n",
            "1  M2044282225             0.0             0.0      0.0             0.0  \n",
            "2   C553264065             0.0             0.0      1.0             0.0  \n",
            "3    C38997010         21182.0             0.0      1.0             0.0  \n",
            "4  M1230701703             0.0             0.0      0.0             0.0  \n",
            "[7.50096651e+16 3.92646185e+16 2.89121059e+15 5.95572710e+13\n",
            " 2.04121823e+13 9.13719187e-16]\n",
            "(39207, 6)\n",
            "[[ 2.67106194e-04  2.08938753e-04  1.78537182e-05  1.62931914e-04\n",
            "   9.85942938e-04 -1.87890531e-01]\n",
            " [ 3.28487534e-05  2.48533562e-05  2.63118643e-06  3.81112050e-05\n",
            "   1.78276702e-04 -9.50014704e-02]\n",
            " [ 1.46952221e-07 -1.12054787e-07  1.26998060e-07  4.91127159e-06\n",
            "   1.58318546e-05  3.15770787e-01]\n",
            " ...\n",
            " [-4.25656217e-03  3.11510226e-03 -1.98799513e-03  2.49151407e-03\n",
            "   2.02939852e-03  2.17516930e-03]\n",
            " [-5.57342326e-04  3.30983612e-04  1.67633038e-03  3.52537674e-03\n",
            "   1.69420231e-03  2.78375128e-05]\n",
            " [ 2.29151868e-06 -3.43156126e-04  1.65713969e-04  1.08053187e-02\n",
            "   5.52393937e-03 -3.69264466e-04]]\n"
          ]
        },
        {
          "data": {
            "image/png": "[encoded data removed]",
            "text/plain": [
              "<Figure size 640x480 with 1 Axes>"
            ]
          },
          "metadata": {},
          "output_type": "display_data"
        }
      ],
      "source": [
        "import numpy as np\n",
        "import pandas as pd\n",
        "import datetime as dt\n",
        "import matplotlib.pyplot as plt\n",
        "from sklearn.metrics import accuracy_score\n",
        "from sklearn.model_selection import cross_val_score\n",
        "from sklearn.model_selection import train_test_split\n",
        "\n",
        "# Load dataset and prepare data before calling functions\n",
        "df = pd.read_csv(\"/content/cleaned_data.csv\")\n",
        "df = df.rename(columns={'oldbalanceOrg':'oldBalanceOrig', 'newbalanceOrig':'newBalanceOrig', \\\n",
        "                        'oldbalanceDest':'oldBalanceDest', 'newbalanceDest':'newBalanceDest'})\n",
        "\n",
        "print(df.head())\n",
        "\n",
        "# Check if the columns exist before deleting\n",
        "if 'type' in df.columns:\n",
        "    del df['type']\n",
        "if 'nameOrig' in df.columns:\n",
        "    del df['nameOrig']\n",
        "if 'nameDest' in df.columns:\n",
        "    del df['nameDest']\n",
        "if 'isFlaggedFraud' in df.columns:\n",
        "    del df['isFlaggedFraud']\n",
        "\n",
        "# Assign labels and features for training\n",
        "X = df[['step','amount','oldBalanceOrig','newBalanceOrig','oldBalanceDest','newBalanceDest']] # Defining X here\n",
        "y = df['isFraud']\n",
        "\n",
        "# Split dataset to generate training set and test set\n",
        "X_train, X_test, y_train, y_test = train_test_split(X, y, test_size=0.3, random_state=0)\n",
        "\n",
        "X_ = np.array(X).astype(float) # Now X is defined and available in this scope\n",
        "# Subtract sample mean\n",
        "X_ -= np.mean(X_, axis=1)[:, np.newaxis]\n",
        "# Get eigenValues and eigenVectors by using Singular Value Decomposition\n",
        "U, W, _ = np.linalg.svd(X_, full_matrices=False)\n",
        "W = W ** 2 / (X.shape[1] - 1)\n",
        "# Calculate cumulative sum of eigenValues\n",
        "S = np.cumsum(W)\n",
        "R = S / S[-1]\n",
        "# Plot cumulative sum\n",
        "plt.plot(R, 'ro-')\n",
        "# Taking the first Kth eigenVectors to reduce dimensions, where their corresponding eigenValues' cumulative sum\n",
        "# should be smaller than 0.9.\n",
        "n = (R < 0.9).sum()\n",
        "# Data projection to lower dimensions.\n",
        "A = U[:, :n].T.dot(X_)\n",
        "print (W)\n",
        "print (U.shape)\n",
        "print (U)"
      ]
    },
    {
      "cell_type": "code",
      "execution_count": null,
      "metadata": {
        "colab": {
          "base_uri": "https://localhost:8080/"
        },
        "id": "qwadWcIL4Vfv",
        "outputId": "4b9d9e82-54ce-4e7a-b6d6-a0e487e7ed80"
      },
      "outputs": [
        {
          "name": "stdout",
          "output_type": "stream",
          "text": [
            "              step    amount  oldBalanceOrig  newBalanceOrig  oldBalanceDest  \\\n",
            "PC-1 -9.648013e-09  0.010006        0.473771        0.482444    4.834698e-01   \n",
            "PC-2 -2.098622e-08 -0.004040        0.517538        0.524172   -4.301946e-01   \n",
            "PC-3 -1.122255e-07 -0.018818       -0.015968       -0.002665    7.622751e-01   \n",
            "PC-4  2.302727e-06  0.975753       -0.158062        0.150183    5.815304e-03   \n",
            "PC-5  2.273898e-06  0.217795        0.694591       -0.685514    9.617071e-03   \n",
            "PC-6  1.000000e+00 -0.000003       -0.000001        0.000001    4.592373e-08   \n",
            "\n",
            "      newBalanceDest  \n",
            "PC-1    5.558290e-01  \n",
            "PC-2   -5.218366e-01  \n",
            "PC-3   -6.467770e-01  \n",
            "PC-4   -1.825289e-02  \n",
            "PC-5   -9.326298e-03  \n",
            "PC-6   -1.493512e-08  \n",
            "[5.63362739e-01 4.19966737e-01 1.60862575e-02 4.68936322e-04\n",
            " 1.15330284e-04 1.97772881e-13]\n"
          ]
        }
      ],
      "source": [
        "# Dimension reduction\n",
        "from sklearn.decomposition import PCA\n",
        "from sklearn import preprocessing\n",
        "data_scaled = pd.DataFrame()\n",
        "\n",
        "pca = PCA(n_components=6, whiten=False)\n",
        "X_new = pca.fit_transform(X)\n",
        "\n",
        "print (pd.DataFrame(pca.components_, columns=['step','amount','oldBalanceOrig','newBalanceOrig','oldBalanceDest','newBalanceDest'], index=['PC-1', 'PC-2', 'PC-3', 'PC-4', 'PC-5', 'PC-6']))\n",
        "print (pca.explained_variance_ratio_)\n",
        "\n",
        "X_train, X_test, y_train, y_test = train_test_split(X_new, y, test_size=0.3, random_state=0)"
      ]
    },
    {
      "cell_type": "code",
      "execution_count": null,
      "metadata": {
        "colab": {
          "base_uri": "https://localhost:8080/"
        },
        "id": "2516TGzH4tY2",
        "outputId": "13214a6a-c20e-44bd-eab1-7ef0a5003b22"
      },
      "outputs": [
        {
          "name": "stdout",
          "output_type": "stream",
          "text": [
            "(39207, 6) (39207,)\n",
            "(39207, 6) (39207,)\n",
            "(27444, 6) (11763, 6) (27444,) (11763,)\n"
          ]
        }
      ],
      "source": [
        "print (X.shape, y.shape)\n",
        "print (X_new.shape, y.shape)\n",
        "print (X_train.shape, X_test.shape, y_train.shape, y_test.shape)"
      ]
    },
    {
      "cell_type": "code",
      "execution_count": null,
      "metadata": {
        "colab": {
          "base_uri": "https://localhost:8080/",
          "height": 193
        },
        "id": "YvXpw6kT4-d0",
        "outputId": "82850bde-6b89-42d9-c32e-3120ee810b81"
      },
      "outputs": [
        {
          "ename": "NameError",
          "evalue": "name 'GNB_CV' is not defined",
          "output_type": "error",
          "traceback": [
            "\u001b[0;31m---------------------------------------------------------------------------\u001b[0m",
            "\u001b[0;31mNameError\u001b[0m                                 Traceback (most recent call last)",
            "\u001b[0;32m<ipython-input-7-c899c5a40ef2>\u001b[0m in \u001b[0;36m<cell line: 0>\u001b[0;34m()\u001b[0m\n\u001b[1;32m      1\u001b[0m \u001b[0;31m# Gaussian Naive Bayes classifier\u001b[0m\u001b[0;34m\u001b[0m\u001b[0;34m\u001b[0m\u001b[0m\n\u001b[0;32m----> 2\u001b[0;31m \u001b[0mGNB_CV\u001b[0m\u001b[0;34m(\u001b[0m\u001b[0mX_train\u001b[0m\u001b[0;34m,\u001b[0m \u001b[0my_train\u001b[0m\u001b[0;34m,\u001b[0m \u001b[0;36m20\u001b[0m\u001b[0;34m)\u001b[0m\u001b[0;34m\u001b[0m\u001b[0;34m\u001b[0m\u001b[0m\n\u001b[0m\u001b[1;32m      3\u001b[0m \u001b[0;34m\u001b[0m\u001b[0m\n\u001b[1;32m      4\u001b[0m \u001b[0mGNB_Train\u001b[0m\u001b[0;34m(\u001b[0m\u001b[0mX_train\u001b[0m\u001b[0;34m,\u001b[0m \u001b[0my_train\u001b[0m\u001b[0;34m,\u001b[0m \u001b[0mX_test\u001b[0m\u001b[0;34m,\u001b[0m \u001b[0my_test\u001b[0m\u001b[0;34m)\u001b[0m\u001b[0;34m\u001b[0m\u001b[0;34m\u001b[0m\u001b[0m\n",
            "\u001b[0;31mNameError\u001b[0m: name 'GNB_CV' is not defined"
          ]
        }
      ],
      "source": [
        "# Gaussian Naive Bayes classifier\n",
        "GNB_CV(X_train, y_train, 20)\n",
        "\n",
        "GNB_Train(X_train, y_train, X_test, y_test)"
      ]
    },
    {
      "cell_type": "code",
      "execution_count": null,
      "metadata": {
        "colab": {
          "base_uri": "https://localhost:8080/"
        },
        "id": "4BOuUrK25OrW",
        "outputId": "cb310edd-6c0d-489b-f129-2e7b0c3949c8"
      },
      "outputs": [
        {
          "name": "stdout",
          "output_type": "stream",
          "text": [
            "Cross-validation accuracy: 0.9716665534177462\n",
            "Cross-validation running time 0:00:00.361587\n",
            "Training accuracy: 0.9977772919399505\n",
            "Testing accuracy: 0.9986398027714019\n",
            "Total running time 0:00:00.061652\n"
          ]
        }
      ],
      "source": [
        "import numpy as np\n",
        "import pandas as pd\n",
        "import datetime as dt\n",
        "import matplotlib.pyplot as plt\n",
        "from sklearn.metrics import accuracy_score\n",
        "from sklearn.model_selection import cross_val_score\n",
        "from sklearn.model_selection import train_test_split\n",
        "from sklearn.naive_bayes import GaussianNB  # Import GaussianNB\n",
        "\n",
        "# ... (rest of your code for loading and preparing data) ...\n",
        "\n",
        "def GNB_CV(X, y, cv_num):\n",
        "    start = dt.datetime.now()\n",
        "    clf = GaussianNB()\n",
        "    score = cross_val_score(clf, X, y, cv=cv_num)\n",
        "    print (\"Cross-validation accuracy:\", np.mean(score))\n",
        "    print (\"Cross-validation running time\", dt.datetime.now()-start)\n",
        "\n",
        "def GNB_Train(X_train, y_train, X_test, y_test):\n",
        "    start = dt.datetime.now()\n",
        "    clf = GaussianNB()\n",
        "    y_pred = clf.fit(X_train, y_train).predict(X_train)\n",
        "    print (\"Training accuracy:\", accuracy_score(y_train, y_pred))\n",
        "    y_pred = clf.fit(X_train, y_train).predict(X_test)\n",
        "    print (\"Testing accuracy:\", accuracy_score(y_test, y_pred))\n",
        "    print (\"Total running time\", dt.datetime.now()-start)\n",
        "\n",
        "# Gaussian Naive Bayes classifier\n",
        "GNB_CV(X_train, y_train, 20)\n",
        "GNB_Train(X_train, y_train, X_test, y_test)"
      ]
    },
    {
      "cell_type": "code",
      "execution_count": null,
      "metadata": {
        "colab": {
          "base_uri": "https://localhost:8080/"
        },
        "id": "BvzLQ-8RBX_E",
        "outputId": "8177b1bc-1b8c-40d5-926e-2098d990372a"
      },
      "outputs": [
        {
          "name": "stdout",
          "output_type": "stream",
          "text": [
            "File '/content/PAYMENT_transactions.csv' created successfully.\n",
            "File '/content/TRANSFER_transactions.csv' created successfully.\n",
            "File '/content/CASH_OUT_transactions.csv' created successfully.\n",
            "File '/content/DEBIT_transactions.csv' created successfully.\n",
            "File '/content/CASH_IN_transactions.csv' created successfully.\n"
          ]
        }
      ],
      "source": [
        "# prompt: give me different csv files for every payemnt type\n",
        "\n",
        "import pandas as pd\n",
        "\n",
        "# Load the dataset\n",
        "try:\n",
        "    df = pd.read_csv('/content/data_with_locations.csv') # Assuming you have already created this file in a previous step\n",
        "except FileNotFoundError:\n",
        "    print(\"Error: File not found. Please ensure the file path is correct.\")\n",
        "    exit()\n",
        "\n",
        "# Get unique payment types\n",
        "payment_types = df['type'].unique()\n",
        "\n",
        "# Create separate CSV files for each payment type\n",
        "for payment_type in payment_types:\n",
        "    # Filter the DataFrame for the current payment type\n",
        "    df_payment_type = df[df['type'] == payment_type]\n",
        "\n",
        "    # Construct the file name\n",
        "    file_name = f'/content/{payment_type}_transactions.csv'\n",
        "\n",
        "    # Save the filtered DataFrame to a CSV file\n",
        "    df_payment_type.to_csv(file_name, index=False)\n",
        "\n",
        "    print(f\"File '{file_name}' created successfully.\")\n"
      ]
    },
    {
      "cell_type": "code",
      "execution_count": null,
      "metadata": {
        "colab": {
          "base_uri": "https://localhost:8080/"
        },
        "id": "LFpHqsqzFh83",
        "outputId": "ffacb25f-13f3-47c5-9312-dd35a59c2167"
      },
      "outputs": [
        {
          "name": "stdout",
          "output_type": "stream",
          "text": [
            "   step      type    amount     nameOrig  oldbalanceOrg  newbalanceOrig  \\\n",
            "0     1   PAYMENT   9839.64  C1231006815       170136.0       160296.36   \n",
            "1     1   PAYMENT   1864.28  C1666544295        21249.0        19384.72   \n",
            "2     1  TRANSFER    181.00  C1305486145          181.0            0.00   \n",
            "3     1  CASH_OUT    181.00   C840083671          181.0            0.00   \n",
            "4     1   PAYMENT  11668.14  C2048537720        41554.0        29885.86   \n",
            "\n",
            "      nameDest  oldbalanceDest  newbalanceDest  isFraud  isFlaggedFraud  \\\n",
            "0  M1979787155             0.0             0.0      0.0             0.0   \n",
            "1  M2044282225             0.0             0.0      0.0             0.0   \n",
            "2   C553264065             0.0             0.0      1.0             0.0   \n",
            "3    C38997010         21182.0             0.0      1.0             0.0   \n",
            "4  M1230701703             0.0             0.0      0.0             0.0   \n",
            "\n",
            "                   location              city country  \n",
            "0  British Columbia, Canada  British Columbia  Canada  \n",
            "1             New York, USA          New York     USA  \n",
            "2                 Wales, UK             Wales      UK  \n",
            "3              Scotland, UK          Scotland      UK  \n",
            "4            Quebec, Canada            Quebec  Canada  \n"
          ]
        }
      ],
      "source": [
        "# prompt: differentiate columns city and country in /content/data_with_locations.csv\n",
        "\n",
        "import pandas as pd\n",
        "\n",
        "# Load the dataset\n",
        "try:\n",
        "    df = pd.read_csv('/content/data_with_locations.csv')\n",
        "except FileNotFoundError:\n",
        "    print(\"Error: File not found. Please ensure the file path is correct.\")\n",
        "    exit()\n",
        "\n",
        "# Split the 'location' column into 'city' and 'country'\n",
        "df[['city', 'country']] = df['location'].str.split(', ', expand=True)\n",
        "\n",
        "# Display the updated DataFrame (optional)\n",
        "print(df.head())\n",
        "\n",
        "# Save the updated DataFrame to a new CSV file (optional)\n",
        "df.to_csv('/content/data_with_city_country.csv', index=False)\n"
      ]
    },
    {
      "cell_type": "code",
      "execution_count": null,
      "metadata": {
        "colab": {
          "base_uri": "https://localhost:8080/"
        },
        "id": "3fpyObAE28j_",
        "outputId": "7452bda8-7a93-458e-aee6-f21003169556"
      },
      "outputs": [
        {
          "name": "stdout",
          "output_type": "stream",
          "text": [
            "Cross-validation accuracy: 0.5699936456738558\n",
            "Cross-validation running time 0:00:00.392324\n",
            "Training accuracy: 0.5652966039935869\n",
            "Testing accuracy: 0.5609113321431608\n",
            "Total running time 0:00:00.037091\n"
          ]
        }
      ],
      "source": [
        "# Gaussian Naive Bayes classifier\n",
        "GNB_CV(X_train, y_train, 20)\n",
        "GNB_Train(X_train, y_train, X_test, y_test)"
      ]
    },
    {
      "cell_type": "code",
      "execution_count": null,
      "metadata": {
        "colab": {
          "base_uri": "https://localhost:8080/"
        },
        "id": "6F2gWsd632KR",
        "outputId": "d5d0df3f-a969-419d-f8db-50532d5e9c53"
      },
      "outputs": [
        {
          "name": "stdout",
          "output_type": "stream",
          "text": [
            "Cross-validation accuracy: 0.9977773129853335\n",
            "Cross-validation running time 0:00:02.686479\n",
            "Training accuracy: 0.9977772919399505\n",
            "Testing accuracy: 0.9986398027714019\n",
            "Total running time 0:00:00.249573\n"
          ]
        }
      ],
      "source": [
        "# Random Forest\n",
        "RFC_CV(X_train, y_train, 20)\n",
        "RFC_Train(X_train, y_train, X_test, y_test)"
      ]
    },
    {
      "cell_type": "code",
      "execution_count": null,
      "metadata": {
        "colab": {
          "base_uri": "https://localhost:8080/"
        },
        "id": "Dl9Dwei7359h",
        "outputId": "1f791f90-11c5-4ccd-a3d6-0649a24072f2"
      },
      "outputs": [
        {
          "name": "stdout",
          "output_type": "stream",
          "text": [
            "Cross-validation accuracy: 0.9977408963793613\n",
            "Cross-validation running time 0:00:01.567811\n",
            "Training accuracy: 0.9977408541029005\n",
            "Testing accuracy: 0.9986398027714019\n",
            "Total running time 0:00:00.193974\n"
          ]
        }
      ],
      "source": [
        "# LDA\n",
        "LDA_CV(X_train, y_train, 20)\n",
        "LDA_Train(X_train, y_train, X_test, y_test)"
      ]
    },
    {
      "cell_type": "code",
      "execution_count": null,
      "metadata": {
        "colab": {
          "base_uri": "https://localhost:8080/"
        },
        "id": "i9vJwckj4Daw",
        "outputId": "0902ba36-26a9-4d33-afc5-9da571f48837"
      },
      "outputs": [
        {
          "name": "stderr",
          "output_type": "stream",
          "text": [
            "/usr/local/lib/python3.11/dist-packages/sklearn/discriminant_analysis.py:1024: LinAlgWarning: The covariance matrix of class 1 is not full rank. Increasing the value of parameter `reg_param` might help reducing the collinearity.\n",
            "  warnings.warn(\n",
            "/usr/local/lib/python3.11/dist-packages/sklearn/discriminant_analysis.py:1024: LinAlgWarning: The covariance matrix of class 1 is not full rank. Increasing the value of parameter `reg_param` might help reducing the collinearity.\n",
            "  warnings.warn(\n",
            "/usr/local/lib/python3.11/dist-packages/sklearn/discriminant_analysis.py:1024: LinAlgWarning: The covariance matrix of class 1 is not full rank. Increasing the value of parameter `reg_param` might help reducing the collinearity.\n",
            "  warnings.warn(\n",
            "/usr/local/lib/python3.11/dist-packages/sklearn/discriminant_analysis.py:1024: LinAlgWarning: The covariance matrix of class 1 is not full rank. Increasing the value of parameter `reg_param` might help reducing the collinearity.\n",
            "  warnings.warn(\n",
            "/usr/local/lib/python3.11/dist-packages/sklearn/discriminant_analysis.py:1024: LinAlgWarning: The covariance matrix of class 1 is not full rank. Increasing the value of parameter `reg_param` might help reducing the collinearity.\n",
            "  warnings.warn(\n",
            "/usr/local/lib/python3.11/dist-packages/sklearn/discriminant_analysis.py:1024: LinAlgWarning: The covariance matrix of class 1 is not full rank. Increasing the value of parameter `reg_param` might help reducing the collinearity.\n",
            "  warnings.warn(\n",
            "/usr/local/lib/python3.11/dist-packages/sklearn/discriminant_analysis.py:1024: LinAlgWarning: The covariance matrix of class 1 is not full rank. Increasing the value of parameter `reg_param` might help reducing the collinearity.\n",
            "  warnings.warn(\n",
            "/usr/local/lib/python3.11/dist-packages/sklearn/discriminant_analysis.py:1024: LinAlgWarning: The covariance matrix of class 1 is not full rank. Increasing the value of parameter `reg_param` might help reducing the collinearity.\n",
            "  warnings.warn(\n",
            "/usr/local/lib/python3.11/dist-packages/sklearn/discriminant_analysis.py:1024: LinAlgWarning: The covariance matrix of class 1 is not full rank. Increasing the value of parameter `reg_param` might help reducing the collinearity.\n",
            "  warnings.warn(\n",
            "/usr/local/lib/python3.11/dist-packages/sklearn/discriminant_analysis.py:1024: LinAlgWarning: The covariance matrix of class 1 is not full rank. Increasing the value of parameter `reg_param` might help reducing the collinearity.\n",
            "  warnings.warn(\n",
            "/usr/local/lib/python3.11/dist-packages/sklearn/discriminant_analysis.py:1024: LinAlgWarning: The covariance matrix of class 1 is not full rank. Increasing the value of parameter `reg_param` might help reducing the collinearity.\n",
            "  warnings.warn(\n",
            "/usr/local/lib/python3.11/dist-packages/sklearn/discriminant_analysis.py:1024: LinAlgWarning: The covariance matrix of class 1 is not full rank. Increasing the value of parameter `reg_param` might help reducing the collinearity.\n",
            "  warnings.warn(\n",
            "/usr/local/lib/python3.11/dist-packages/sklearn/discriminant_analysis.py:1024: LinAlgWarning: The covariance matrix of class 1 is not full rank. Increasing the value of parameter `reg_param` might help reducing the collinearity.\n",
            "  warnings.warn(\n",
            "/usr/local/lib/python3.11/dist-packages/sklearn/discriminant_analysis.py:1024: LinAlgWarning: The covariance matrix of class 1 is not full rank. Increasing the value of parameter `reg_param` might help reducing the collinearity.\n",
            "  warnings.warn(\n"
          ]
        },
        {
          "name": "stdout",
          "output_type": "stream",
          "text": [
            "Cross-validation accuracy: 0.8033861073302487\n",
            "Cross-validation running time 0:00:00.851621\n",
            "Training accuracy: 0.660435796531118\n",
            "Testing accuracy: 0.6495791889824024\n",
            "Total running time 0:00:00.058003\n"
          ]
        },
        {
          "name": "stderr",
          "output_type": "stream",
          "text": [
            "/usr/local/lib/python3.11/dist-packages/sklearn/discriminant_analysis.py:1024: LinAlgWarning: The covariance matrix of class 1 is not full rank. Increasing the value of parameter `reg_param` might help reducing the collinearity.\n",
            "  warnings.warn(\n",
            "/usr/local/lib/python3.11/dist-packages/sklearn/discriminant_analysis.py:1024: LinAlgWarning: The covariance matrix of class 1 is not full rank. Increasing the value of parameter `reg_param` might help reducing the collinearity.\n",
            "  warnings.warn(\n",
            "/usr/local/lib/python3.11/dist-packages/sklearn/discriminant_analysis.py:1024: LinAlgWarning: The covariance matrix of class 1 is not full rank. Increasing the value of parameter `reg_param` might help reducing the collinearity.\n",
            "  warnings.warn(\n",
            "/usr/local/lib/python3.11/dist-packages/sklearn/discriminant_analysis.py:1024: LinAlgWarning: The covariance matrix of class 1 is not full rank. Increasing the value of parameter `reg_param` might help reducing the collinearity.\n",
            "  warnings.warn(\n",
            "/usr/local/lib/python3.11/dist-packages/sklearn/discriminant_analysis.py:1024: LinAlgWarning: The covariance matrix of class 1 is not full rank. Increasing the value of parameter `reg_param` might help reducing the collinearity.\n",
            "  warnings.warn(\n",
            "/usr/local/lib/python3.11/dist-packages/sklearn/discriminant_analysis.py:1024: LinAlgWarning: The covariance matrix of class 1 is not full rank. Increasing the value of parameter `reg_param` might help reducing the collinearity.\n",
            "  warnings.warn(\n",
            "/usr/local/lib/python3.11/dist-packages/sklearn/discriminant_analysis.py:1024: LinAlgWarning: The covariance matrix of class 1 is not full rank. Increasing the value of parameter `reg_param` might help reducing the collinearity.\n",
            "  warnings.warn(\n",
            "/usr/local/lib/python3.11/dist-packages/sklearn/discriminant_analysis.py:1024: LinAlgWarning: The covariance matrix of class 1 is not full rank. Increasing the value of parameter `reg_param` might help reducing the collinearity.\n",
            "  warnings.warn(\n"
          ]
        }
      ],
      "source": [
        "# QDA\n",
        "QDA_CV(X_train, y_train, 20)\n",
        "QDA_Train(X_train, y_train, X_test, y_test)"
      ]
    },
    {
      "cell_type": "code",
      "execution_count": null,
      "metadata": {
        "colab": {
          "base_uri": "https://localhost:8080/"
        },
        "id": "bZ4ynnh74Kwr",
        "outputId": "b2598ea7-ccc3-41a0-e0d1-0c2f3ac239de"
      },
      "outputs": [
        {
          "name": "stderr",
          "output_type": "stream",
          "text": [
            "/usr/local/lib/python3.11/dist-packages/sklearn/linear_model/_logistic.py:465: ConvergenceWarning: lbfgs failed to converge (status=1):\n",
            "STOP: TOTAL NO. of ITERATIONS REACHED LIMIT.\n",
            "\n",
            "Increase the number of iterations (max_iter) or scale the data as shown in:\n",
            "    https://scikit-learn.org/stable/modules/preprocessing.html\n",
            "Please also refer to the documentation for alternative solver options:\n",
            "    https://scikit-learn.org/stable/modules/linear_model.html#logistic-regression\n",
            "  n_iter_i = _check_optimize_result(\n",
            "/usr/local/lib/python3.11/dist-packages/sklearn/linear_model/_logistic.py:465: ConvergenceWarning: lbfgs failed to converge (status=1):\n",
            "STOP: TOTAL NO. of ITERATIONS REACHED LIMIT.\n",
            "\n",
            "Increase the number of iterations (max_iter) or scale the data as shown in:\n",
            "    https://scikit-learn.org/stable/modules/preprocessing.html\n",
            "Please also refer to the documentation for alternative solver options:\n",
            "    https://scikit-learn.org/stable/modules/linear_model.html#logistic-regression\n",
            "  n_iter_i = _check_optimize_result(\n",
            "/usr/local/lib/python3.11/dist-packages/sklearn/linear_model/_logistic.py:465: ConvergenceWarning: lbfgs failed to converge (status=1):\n",
            "STOP: TOTAL NO. of ITERATIONS REACHED LIMIT.\n",
            "\n",
            "Increase the number of iterations (max_iter) or scale the data as shown in:\n",
            "    https://scikit-learn.org/stable/modules/preprocessing.html\n",
            "Please also refer to the documentation for alternative solver options:\n",
            "    https://scikit-learn.org/stable/modules/linear_model.html#logistic-regression\n",
            "  n_iter_i = _check_optimize_result(\n",
            "/usr/local/lib/python3.11/dist-packages/sklearn/linear_model/_logistic.py:465: ConvergenceWarning: lbfgs failed to converge (status=1):\n",
            "STOP: TOTAL NO. of ITERATIONS REACHED LIMIT.\n",
            "\n",
            "Increase the number of iterations (max_iter) or scale the data as shown in:\n",
            "    https://scikit-learn.org/stable/modules/preprocessing.html\n",
            "Please also refer to the documentation for alternative solver options:\n",
            "    https://scikit-learn.org/stable/modules/linear_model.html#logistic-regression\n",
            "  n_iter_i = _check_optimize_result(\n",
            "/usr/local/lib/python3.11/dist-packages/sklearn/linear_model/_logistic.py:465: ConvergenceWarning: lbfgs failed to converge (status=1):\n",
            "STOP: TOTAL NO. of ITERATIONS REACHED LIMIT.\n",
            "\n",
            "Increase the number of iterations (max_iter) or scale the data as shown in:\n",
            "    https://scikit-learn.org/stable/modules/preprocessing.html\n",
            "Please also refer to the documentation for alternative solver options:\n",
            "    https://scikit-learn.org/stable/modules/linear_model.html#logistic-regression\n",
            "  n_iter_i = _check_optimize_result(\n",
            "/usr/local/lib/python3.11/dist-packages/sklearn/linear_model/_logistic.py:465: ConvergenceWarning: lbfgs failed to converge (status=1):\n",
            "STOP: TOTAL NO. of ITERATIONS REACHED LIMIT.\n",
            "\n",
            "Increase the number of iterations (max_iter) or scale the data as shown in:\n",
            "    https://scikit-learn.org/stable/modules/preprocessing.html\n",
            "Please also refer to the documentation for alternative solver options:\n",
            "    https://scikit-learn.org/stable/modules/linear_model.html#logistic-regression\n",
            "  n_iter_i = _check_optimize_result(\n",
            "/usr/local/lib/python3.11/dist-packages/sklearn/linear_model/_logistic.py:465: ConvergenceWarning: lbfgs failed to converge (status=1):\n",
            "STOP: TOTAL NO. of ITERATIONS REACHED LIMIT.\n",
            "\n",
            "Increase the number of iterations (max_iter) or scale the data as shown in:\n",
            "    https://scikit-learn.org/stable/modules/preprocessing.html\n",
            "Please also refer to the documentation for alternative solver options:\n",
            "    https://scikit-learn.org/stable/modules/linear_model.html#logistic-regression\n",
            "  n_iter_i = _check_optimize_result(\n",
            "/usr/local/lib/python3.11/dist-packages/sklearn/linear_model/_logistic.py:465: ConvergenceWarning: lbfgs failed to converge (status=1):\n",
            "STOP: TOTAL NO. of ITERATIONS REACHED LIMIT.\n",
            "\n",
            "Increase the number of iterations (max_iter) or scale the data as shown in:\n",
            "    https://scikit-learn.org/stable/modules/preprocessing.html\n",
            "Please also refer to the documentation for alternative solver options:\n",
            "    https://scikit-learn.org/stable/modules/linear_model.html#logistic-regression\n",
            "  n_iter_i = _check_optimize_result(\n",
            "/usr/local/lib/python3.11/dist-packages/sklearn/linear_model/_logistic.py:465: ConvergenceWarning: lbfgs failed to converge (status=1):\n",
            "STOP: TOTAL NO. of ITERATIONS REACHED LIMIT.\n",
            "\n",
            "Increase the number of iterations (max_iter) or scale the data as shown in:\n",
            "    https://scikit-learn.org/stable/modules/preprocessing.html\n",
            "Please also refer to the documentation for alternative solver options:\n",
            "    https://scikit-learn.org/stable/modules/linear_model.html#logistic-regression\n",
            "  n_iter_i = _check_optimize_result(\n",
            "/usr/local/lib/python3.11/dist-packages/sklearn/linear_model/_logistic.py:465: ConvergenceWarning: lbfgs failed to converge (status=1):\n",
            "STOP: TOTAL NO. of ITERATIONS REACHED LIMIT.\n",
            "\n",
            "Increase the number of iterations (max_iter) or scale the data as shown in:\n",
            "    https://scikit-learn.org/stable/modules/preprocessing.html\n",
            "Please also refer to the documentation for alternative solver options:\n",
            "    https://scikit-learn.org/stable/modules/linear_model.html#logistic-regression\n",
            "  n_iter_i = _check_optimize_result(\n"
          ]
        },
        {
          "name": "stdout",
          "output_type": "stream",
          "text": [
            "Cross-validation accuracy: 0.9982145246857526\n",
            "Cross-validation running time 0:00:03.265639\n"
          ]
        },
        {
          "name": "stderr",
          "output_type": "stream",
          "text": [
            "/usr/local/lib/python3.11/dist-packages/sklearn/linear_model/_logistic.py:465: ConvergenceWarning: lbfgs failed to converge (status=1):\n",
            "STOP: TOTAL NO. of ITERATIONS REACHED LIMIT.\n",
            "\n",
            "Increase the number of iterations (max_iter) or scale the data as shown in:\n",
            "    https://scikit-learn.org/stable/modules/preprocessing.html\n",
            "Please also refer to the documentation for alternative solver options:\n",
            "    https://scikit-learn.org/stable/modules/linear_model.html#logistic-regression\n",
            "  n_iter_i = _check_optimize_result(\n"
          ]
        },
        {
          "name": "stdout",
          "output_type": "stream",
          "text": [
            "Training accuracy: 0.9981416703104504\n",
            "Testing accuracy: 0.9988098274249766\n",
            "Total running time 0:00:00.747622\n"
          ]
        },
        {
          "name": "stderr",
          "output_type": "stream",
          "text": [
            "/usr/local/lib/python3.11/dist-packages/sklearn/linear_model/_logistic.py:465: ConvergenceWarning: lbfgs failed to converge (status=1):\n",
            "STOP: TOTAL NO. of ITERATIONS REACHED LIMIT.\n",
            "\n",
            "Increase the number of iterations (max_iter) or scale the data as shown in:\n",
            "    https://scikit-learn.org/stable/modules/preprocessing.html\n",
            "Please also refer to the documentation for alternative solver options:\n",
            "    https://scikit-learn.org/stable/modules/linear_model.html#logistic-regression\n",
            "  n_iter_i = _check_optimize_result(\n"
          ]
        }
      ],
      "source": [
        "# Logistic Regression\n",
        "LR_CV(X_train, y_train, 10)\n",
        "LR_Train(X_train, y_train, X_test, y_test)"
      ]
    }
  ],
  "metadata": {
    "colab": {
      "provenance": []
    },
    "kernelspec": {
      "display_name": "base",
      "language": "python",
      "name": "python3"
    },
    "language_info": {
      "codemirror_mode": {
        "name": "ipython",
        "version": 3
      },
      "file_extension": ".py",
      "mimetype": "text/x-python",
      "name": "python",
      "nbconvert_exporter": "python",
      "pygments_lexer": "ipython3",
      "version": "3.12.7"
    }
  },
  "nbformat": 4,
  "nbformat_minor": 0
}
